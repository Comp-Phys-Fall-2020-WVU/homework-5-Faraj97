{
 "cells": [
  {
   "cell_type": "markdown",
   "metadata": {},
   "source": [
    "# Week Five: Integration and differentiation\n",
    "\n",
    "To be graded, your notebook must be runnable start to finish. If you can't make an in-notebook test pass, comment it out for to attempt to get partial credit. You should replace the `...` markers with your code. Do not change the names of the pre-defined ALL_CAPS variables and functions. (If you start from scratch, make sure you match the requested function names and requested ALL_CAPS variables). Other that that, you are free to define or make anything you wish. Remember that functions will often be tested with different numbers than the ones you are given."
   ]
  },
  {
   "cell_type": "code",
   "execution_count": 171,
   "metadata": {},
   "outputs": [],
   "source": [
    "# EID is your 6+2 UC Electronic ID\n",
    "EID = 'Ali Faraj'\n",
    "NAME = '800153721'"
   ]
  },
  {
   "cell_type": "code",
   "execution_count": 172,
   "metadata": {},
   "outputs": [],
   "source": [
    "%matplotlib inline\n",
    "import numpy as np\n",
    "import matplotlib.pyplot as plt"
   ]
  },
  {
   "cell_type": "markdown",
   "metadata": {},
   "source": [
    "# Problem 1: 2D Trapezoidal rule\n",
    "\n",
    "You can extend the trapezoidal rule to 2D. I'll give you a few hints:\n",
    "\n",
    "The weight matrix is:\n",
    "$$\n",
    "W_{ij} = \\begin{matrix}\n",
    "1 & 2 & 2 & \\cdots & 2 & 2 & 1 \\\\\n",
    "2 & 4 & 4 & \\cdots & 4 & 4 & 2 \\\\\n",
    "2 & 4 & 4 & \\cdots & 4 & 4 & 2 \\\\\n",
    "\\vdots & \\vdots & \\vdots & \\ddots & \\vdots & \\vdots & \\vdots \\\\\n",
    "2 & 4 & 4 & \\cdots & 4 & 4 & 2 \\\\\n",
    "2 & 4 & 4 & \\cdots & 4 & 4 & 2 \\\\\n",
    "1 & 2 & 2 & \\cdots & 2 & 2 & 1\n",
    "\\end{matrix}\n",
    "$$\n",
    "\n",
    "If you use the trick I used in the slides instead of explicitly creating this matrix, you would split the sum into 4 parts. However, it's really quite easy to make the matrix above\n",
    "\n",
    "The \"bin\" width $h$ is joined by the 2nd dimension bin width of $k$, and then the trapezoidal rule integral value is \n",
    "\n",
    "$$\n",
    "I_\\mathrm{tr} = \\frac{1}{4} h k \\sum_i \\sum_j W_{ij} f(x_{i}, y_{j})\n",
    "$$"
   ]
  },
  {
   "cell_type": "markdown",
   "metadata": {},
   "source": [
    "Write a function that takes a 2-parameter function 'f' and integrates it with the given parameters (further explanations are built into the docstring of the function). I'm writing a Numpy-style docstring.\n",
    "\n",
    "See also: <http://mathfaculty.fullerton.edu/mathews/n2003/SimpsonsRule2DMod.html>"
   ]
  },
  {
   "cell_type": "code",
   "execution_count": 173,
   "metadata": {},
   "outputs": [],
   "source": [
    "def trap_2d(f, xrange, yrange, xN, yN):\n",
    "    '''Integrate a 2D function with the trapezoidal rule.\n",
    "    \n",
    "    This takes a 2D function and integrates it over a 2D grid.\n",
    "    This uses the Trapezoidal rule in 2D.\n",
    "    \n",
    "    Parameters\n",
    "    ----------\n",
    "    f : callable\n",
    "        The function to integrate. The function should take an x and y value (possibly arrays).\n",
    "    xrange : (float, float)\n",
    "        The min and max values for x, as an array\n",
    "    yrange : (float, float)\n",
    "        The min and max values for y, as an array\n",
    "    xN : int\n",
    "        The number of evaluations along x\n",
    "    yN : int\n",
    "        The number of evaluations along x\n",
    "\n",
    "    Returns\n",
    "    -------\n",
    "    float\n",
    "        The total integral\n",
    "    \n",
    "    '''\n",
    "    # If these are *not* arrays, convert them into arrays. Otherwise, leave them alone.\n",
    "    # (If we used np.array, we'd needlessly make a copy if it aready was an array)\n",
    "    xrange = np.asarray(xrange)\n",
    "    yrange = np.asarray(yrange)\n",
    "    \n",
    "    # There are N-1 \"bins\"\n",
    "    h = (xrange[1] - xrange[0])/(xN-1)\n",
    "    y = (yrange[1] - yrange[0])/(yN-1)\n",
    "    \n",
    "    ..."
   ]
  },
  {
   "cell_type": "markdown",
   "metadata": {},
   "source": [
    "Feel free to add more tests, I'm adding the simplest one I can think of:"
   ]
  },
  {
   "cell_type": "code",
   "execution_count": 174,
   "metadata": {},
   "outputs": [],
   "source": [
    "def f(x,y):\n",
    "    return 1"
   ]
  },
  {
   "cell_type": "code",
   "execution_count": 175,
   "metadata": {},
   "outputs": [
    {
     "output_type": "error",
     "ename": "TypeError",
     "evalue": "ufunc 'isfinite' not supported for the input types, and the inputs could not be safely coerced to any supported types according to the casting rule ''safe''",
     "traceback": [
      "\u001b[1;31m---------------------------------------------------------------------------\u001b[0m",
      "\u001b[1;31mTypeError\u001b[0m                                 Traceback (most recent call last)",
      "\u001b[1;32m<ipython-input-175-142387034758>\u001b[0m in \u001b[0;36m<module>\u001b[1;34m\u001b[0m\n\u001b[0;32m      1\u001b[0m \u001b[0marea\u001b[0m \u001b[1;33m=\u001b[0m \u001b[0mtrap_2d\u001b[0m\u001b[1;33m(\u001b[0m\u001b[0mf\u001b[0m\u001b[1;33m,\u001b[0m \u001b[1;33m[\u001b[0m\u001b[1;36m0\u001b[0m\u001b[1;33m,\u001b[0m \u001b[1;36m10\u001b[0m\u001b[1;33m]\u001b[0m\u001b[1;33m,\u001b[0m \u001b[1;33m[\u001b[0m\u001b[1;36m0\u001b[0m\u001b[1;33m,\u001b[0m \u001b[1;36m10\u001b[0m\u001b[1;33m]\u001b[0m\u001b[1;33m,\u001b[0m \u001b[1;36m10\u001b[0m\u001b[1;33m,\u001b[0m \u001b[1;36m10\u001b[0m\u001b[1;33m)\u001b[0m\u001b[1;33m\u001b[0m\u001b[1;33m\u001b[0m\u001b[0m\n\u001b[1;32m----> 2\u001b[1;33m \u001b[1;32massert\u001b[0m \u001b[0mnp\u001b[0m\u001b[1;33m.\u001b[0m\u001b[0misclose\u001b[0m\u001b[1;33m(\u001b[0m\u001b[0marea\u001b[0m\u001b[1;33m,\u001b[0m \u001b[1;36m100\u001b[0m\u001b[1;33m)\u001b[0m\u001b[1;33m\u001b[0m\u001b[1;33m\u001b[0m\u001b[0m\n\u001b[0m",
      "\u001b[1;32m<__array_function__ internals>\u001b[0m in \u001b[0;36misclose\u001b[1;34m(*args, **kwargs)\u001b[0m\n",
      "\u001b[1;32m~\\AppData\\Roaming\\Python\\Python38\\site-packages\\numpy\\core\\numeric.py\u001b[0m in \u001b[0;36misclose\u001b[1;34m(a, b, rtol, atol, equal_nan)\u001b[0m\n\u001b[0;32m   2285\u001b[0m     \u001b[0my\u001b[0m \u001b[1;33m=\u001b[0m \u001b[0marray\u001b[0m\u001b[1;33m(\u001b[0m\u001b[0my\u001b[0m\u001b[1;33m,\u001b[0m \u001b[0mdtype\u001b[0m\u001b[1;33m=\u001b[0m\u001b[0mdt\u001b[0m\u001b[1;33m,\u001b[0m \u001b[0mcopy\u001b[0m\u001b[1;33m=\u001b[0m\u001b[1;32mFalse\u001b[0m\u001b[1;33m,\u001b[0m \u001b[0msubok\u001b[0m\u001b[1;33m=\u001b[0m\u001b[1;32mTrue\u001b[0m\u001b[1;33m)\u001b[0m\u001b[1;33m\u001b[0m\u001b[1;33m\u001b[0m\u001b[0m\n\u001b[0;32m   2286\u001b[0m \u001b[1;33m\u001b[0m\u001b[0m\n\u001b[1;32m-> 2287\u001b[1;33m     \u001b[0mxfin\u001b[0m \u001b[1;33m=\u001b[0m \u001b[0misfinite\u001b[0m\u001b[1;33m(\u001b[0m\u001b[0mx\u001b[0m\u001b[1;33m)\u001b[0m\u001b[1;33m\u001b[0m\u001b[1;33m\u001b[0m\u001b[0m\n\u001b[0m\u001b[0;32m   2288\u001b[0m     \u001b[0myfin\u001b[0m \u001b[1;33m=\u001b[0m \u001b[0misfinite\u001b[0m\u001b[1;33m(\u001b[0m\u001b[0my\u001b[0m\u001b[1;33m)\u001b[0m\u001b[1;33m\u001b[0m\u001b[1;33m\u001b[0m\u001b[0m\n\u001b[0;32m   2289\u001b[0m     \u001b[1;32mif\u001b[0m \u001b[0mall\u001b[0m\u001b[1;33m(\u001b[0m\u001b[0mxfin\u001b[0m\u001b[1;33m)\u001b[0m \u001b[1;32mand\u001b[0m \u001b[0mall\u001b[0m\u001b[1;33m(\u001b[0m\u001b[0myfin\u001b[0m\u001b[1;33m)\u001b[0m\u001b[1;33m:\u001b[0m\u001b[1;33m\u001b[0m\u001b[1;33m\u001b[0m\u001b[0m\n",
      "\u001b[1;31mTypeError\u001b[0m: ufunc 'isfinite' not supported for the input types, and the inputs could not be safely coerced to any supported types according to the casting rule ''safe''"
     ]
    }
   ],
   "source": [
    "area = trap_2d(f, [0, 10], [0, 10], 10, 10)\n",
    "assert np.isclose(area, 100)"
   ]
  },
  {
   "cell_type": "markdown",
   "metadata": {},
   "source": [
    "# Problem 2: MC integration\n",
    "\n",
    "Write a function that performs MC integration of an unknown function of N dimensions. You can use `f(*array)` to call the function with the correct number of arguments (it expands to `f(array[0], array[1], ..., array[N])`). Return **two** values; the estimated integral and the estimated error on the integral."
   ]
  },
  {
   "cell_type": "code",
   "execution_count": 195,
   "metadata": {
    "tags": []
   },
   "outputs": [],
   "source": [
    "def mc_integrate(f, N, samples, ranges):\n",
    "    '''\n",
    "    Integrate an ND function with a set of sampled MC points.\n",
    "    \n",
    "    Parameters\n",
    "    ----------\n",
    "    f : callable\n",
    "        The function to integrate. The function should take N\n",
    "        values (possibly equal length arrays).\n",
    "    N : int\n",
    "        The min and max values for x, as an array\n",
    "    samples : int\n",
    "        The number of samples to integrate over\n",
    "    ranges : array[2, N]\n",
    "        An array with the min and max for each dimension.\n",
    "\n",
    "    Returns\n",
    "    -------\n",
    "    float\n",
    "        The total integral\n",
    "    float\n",
    "        The estimated error = relative error * the total integral.\n",
    "    '''\n",
    "    \n",
    "    ranges = np.asarray(ranges) # Just making sure ranges is an array\n",
    "    \n",
    "    # Hint: You can turn a 1D array, such as arr = array([a, b]) into a 2D array\n",
    "    # with arr[:,np.newaxis] or arr[:,None] or arr.reshape(2,1) or arr.reshape(-1,1)\n",
    "    \n",
    "    # Our definition of ranges matches what you find in Scipy, and is natural to type,\n",
    "    # but is a but less natural to use, for example:\n",
    "    widths = ranges[:,1] + ranges[:,0]\n",
    "\n",
    "    #myranges = np.asarray(myranges)\n",
    "    rows, cols = (2, len(ranges)) \n",
    "    myranges = [[0]*cols]*rows \n",
    "    sum_of_samples = [[0]*cols]*rows\n",
    "    myintegral = [[0]*cols]*rows\n",
    "\n",
    "    #sum_of\n",
    "\n",
    "    for i in range(len(ranges)):\n",
    "        myranges[i] = ranges[i,1] - ranges[i,0] + 1\n",
    "        sum_of_samples[i] = 0\n",
    "        myintegral[i] = 0\n",
    "    \n",
    "    \n",
    "    # samples: number of samples in each dimension\n",
    "    # ranges: array of ranges, for each min and max\n",
    "    for j in range(len(ranges)):\n",
    "        for i in range(samples):\n",
    "            x = np.random.rand(ranges[j,0], ranges[j,1])\n",
    "            sum_of_samples[j] += x\n",
    "        myintegral[j] = (sum_of_samples[j] / samples) * myranges[j]\n",
    "    \n",
    "    sum_of_integrals = 0\n",
    "    for i in range(len(ranges)):\n",
    "        sum_of_integrals += myintegral[i]\n",
    "\n",
    "    total_integral = sum_of_integrals / len(ranges)\n",
    "\n",
    "    actual_integral = integrate.nquad(f, ranges)\n",
    "\n",
    "    estimated_error = (actual_integral - total_integral) / total_integral\n",
    "\n",
    "    return total_integral, estimated_error\n",
    "    \n",
    "    #return (upper_bound - lower_bound) * float(sum_of_samples/samples)\n",
    "    \n",
    "    \n",
    "      \n",
    "\n"
   ]
  },
  {
   "cell_type": "code",
   "execution_count": 196,
   "metadata": {},
   "outputs": [],
   "source": [
    "def f(x,y):\n",
    "    return x + y"
   ]
  },
  {
   "cell_type": "code",
   "execution_count": 199,
   "metadata": {
    "tags": []
   },
   "outputs": [],
   "source": [
    "integral, error = mc_integrate(f, 2, 10_000, [[0,1],[0,1]])"
   ]
  },
  {
   "cell_type": "code",
   "execution_count": 201,
   "metadata": {
    "tags": []
   },
   "outputs": [
    {
     "output_type": "stream",
     "name": "stdout",
     "text": "[] []\n"
    }
   ],
   "source": [
    "print(integral, error)"
   ]
  },
  {
   "cell_type": "markdown",
   "metadata": {},
   "source": [
    "#### For comparison, we could use NQuad from Scipy:"
   ]
  },
  {
   "cell_type": "code",
   "execution_count": 67,
   "metadata": {},
   "outputs": [],
   "source": [
    "from scipy import integrate"
   ]
  },
  {
   "cell_type": "code",
   "execution_count": 68,
   "metadata": {},
   "outputs": [
    {
     "output_type": "execute_result",
     "data": {
      "text/plain": "(1.0, 1.1102230246251565e-14)"
     },
     "metadata": {},
     "execution_count": 68
    }
   ],
   "source": [
    "integrate.nquad(f, [[0,1],[0,1]])"
   ]
  },
  {
   "cell_type": "markdown",
   "metadata": {},
   "source": [
    "# Problem 3: Second derivatives"
   ]
  },
  {
   "cell_type": "markdown",
   "metadata": {},
   "source": [
    "Write a function that calculates:\n",
    "\n",
    "$$\n",
    "\\frac{d^2 f(t)}{dt^2} \\Biggr\\rvert_\\mathrm{cd}\n",
    "=\n",
    "\\frac{\n",
    "\\left[\n",
    "f(t + h) - f(t)\n",
    "\\right] - \\left[\n",
    "f(t) - f(t - h)\n",
    "\\right]\n",
    "}{h^2}\n",
    "$$\n",
    "\n",
    "(The notes in class had a typo, fixed here.) Write a nice docstring as well."
   ]
  },
  {
   "cell_type": "code",
   "execution_count": 51,
   "metadata": {},
   "outputs": [],
   "source": [
    "def d2fdt2(f, t, h):\n",
    "    '''\n",
    "    f= the main function\n",
    "    t= input\n",
    "    h= delta t (change in t)\n",
    "\n",
    "    '''\n",
    "    f2= ((f(t+h)-f(t))-(f(t)-f(t-h)))/h**2\n",
    "    return f2\n",
    "    \n",
    "    ..."
   ]
  },
  {
   "cell_type": "markdown",
   "metadata": {},
   "source": [
    "Test your `d2fdt2` function on a function that you know the derivative for."
   ]
  },
  {
   "cell_type": "code",
   "execution_count": 36,
   "metadata": {
    "tags": []
   },
   "outputs": [
    {
     "output_type": "stream",
     "name": "stdout",
     "text": "54.000000915266355\n"
    }
   ],
   "source": [
    "def f(x):\n",
    " return x**4+3*x**2\n",
    " #x^4+3x second der is 12x^2+6\n",
    " #evaluated at x=2 it's 54\n",
    "print(d2fdt2(f,2,0.0001))"
   ]
  },
  {
   "cell_type": "code",
   "execution_count": null,
   "metadata": {},
   "outputs": [],
   "source": []
  }
 ],
 "metadata": {
  "language_info": {
   "codemirror_mode": {
    "name": "ipython",
    "version": 3
   },
   "file_extension": ".py",
   "mimetype": "text/x-python",
   "name": "python",
   "nbconvert_exporter": "python",
   "pygments_lexer": "ipython3",
   "version": "3.8.5-final"
  },
  "kernelspec": {
   "name": "Python 3.8.5 32-bit",
   "display_name": "Python 3.8.5 32-bit",
   "metadata": {
    "interpreter": {
     "hash": "0708a176e5427373471e6a7198bcc1752fea0940cf5e2127bf8f5d724289b965"
    }
   }
  }
 },
 "nbformat": 4,
 "nbformat_minor": 2
}